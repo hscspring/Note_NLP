{
 "cells": [
  {
   "cell_type": "markdown",
   "metadata": {
    "toc": "true"
   },
   "source": [
    "<h1>Table of Contents<span class=\"tocSkip\"></span></h1>\n",
    "<div class=\"toc\"><ul class=\"toc-item\"><li><span><a href=\"#Phenomena-to-Handle\" data-toc-modified-id=\"Phenomena-to-Handle-1\"><span class=\"toc-item-num\">1&nbsp;&nbsp;</span>Phenomena to Handle</a></span></li><li><span><a href=\"#Neural-Networks:-A-Tool-for-Doing-Hard-Things\" data-toc-modified-id=\"Neural-Networks:-A-Tool-for-Doing-Hard-Things-2\"><span class=\"toc-item-num\">2&nbsp;&nbsp;</span>Neural Networks: A Tool for Doing Hard Things</a></span><ul class=\"toc-item\"><li><span><a href=\"#Bag-of-Words-(BOW)\" data-toc-modified-id=\"Bag-of-Words-(BOW)-2.1\"><span class=\"toc-item-num\">2.1&nbsp;&nbsp;</span>Bag of Words (BOW)</a></span></li><li><span><a href=\"#Continuous-Bag-of-Words-(CBOW)\" data-toc-modified-id=\"Continuous-Bag-of-Words-(CBOW)-2.2\"><span class=\"toc-item-num\">2.2&nbsp;&nbsp;</span>Continuous Bag of Words (CBOW)</a></span></li><li><span><a href=\"#Deep-CBOW\" data-toc-modified-id=\"Deep-CBOW-2.3\"><span class=\"toc-item-num\">2.3&nbsp;&nbsp;</span>Deep CBOW</a></span></li></ul></li><li><span><a href=\"#Computation-Graphs\" data-toc-modified-id=\"Computation-Graphs-3\"><span class=\"toc-item-num\">3&nbsp;&nbsp;</span>Computation Graphs</a></span></li><li><span><a href=\"#Algorithms\" data-toc-modified-id=\"Algorithms-4\"><span class=\"toc-item-num\">4&nbsp;&nbsp;</span>Algorithms</a></span><ul class=\"toc-item\"><li><span><a href=\"#Forward-propagation\" data-toc-modified-id=\"Forward-propagation-4.1\"><span class=\"toc-item-num\">4.1&nbsp;&nbsp;</span>Forward propagation</a></span></li><li><span><a href=\"#Back-propagation\" data-toc-modified-id=\"Back-propagation-4.2\"><span class=\"toc-item-num\">4.2&nbsp;&nbsp;</span>Back-propagation</a></span></li><li><span><a href=\"#Parameter-update\" data-toc-modified-id=\"Parameter-update-4.3\"><span class=\"toc-item-num\">4.3&nbsp;&nbsp;</span>Parameter update</a></span></li></ul></li><li><span><a href=\"#Neural-Network-Frameworks\" data-toc-modified-id=\"Neural-Network-Frameworks-5\"><span class=\"toc-item-num\">5&nbsp;&nbsp;</span>Neural Network Frameworks</a></span></li><li><span><a href=\"#DyNet\" data-toc-modified-id=\"DyNet-6\"><span class=\"toc-item-num\">6&nbsp;&nbsp;</span>DyNet</a></span><ul class=\"toc-item\"><li><span><a href=\"#Computation-Graph-and-Expressions\" data-toc-modified-id=\"Computation-Graph-and-Expressions-6.1\"><span class=\"toc-item-num\">6.1&nbsp;&nbsp;</span>Computation Graph and Expressions</a></span></li><li><span><a href=\"#Model-and-Parameters\" data-toc-modified-id=\"Model-and-Parameters-6.2\"><span class=\"toc-item-num\">6.2&nbsp;&nbsp;</span>Model and Parameters</a></span></li><li><span><a href=\"#Parameter-Initialization\" data-toc-modified-id=\"Parameter-Initialization-6.3\"><span class=\"toc-item-num\">6.3&nbsp;&nbsp;</span>Parameter Initialization</a></span></li><li><span><a href=\"#Trainers-and-Backdrop\" data-toc-modified-id=\"Trainers-and-Backdrop-6.4\"><span class=\"toc-item-num\">6.4&nbsp;&nbsp;</span>Trainers and Backdrop</a></span></li><li><span><a href=\"#Training-with-DyNet\" data-toc-modified-id=\"Training-with-DyNet-6.5\"><span class=\"toc-item-num\">6.5&nbsp;&nbsp;</span>Training with DyNet</a></span></li></ul></li><li><span><a href=\"#Class-Format/Structure\" data-toc-modified-id=\"Class-Format/Structure-7\"><span class=\"toc-item-num\">7&nbsp;&nbsp;</span>Class Format/Structure</a></span></li><li><span><a href=\"#Assignments\" data-toc-modified-id=\"Assignments-8\"><span class=\"toc-item-num\">8&nbsp;&nbsp;</span>Assignments</a></span></li><li><span><a href=\"#SampleCode\" data-toc-modified-id=\"SampleCode-9\"><span class=\"toc-item-num\">9&nbsp;&nbsp;</span>SampleCode</a></span><ul class=\"toc-item\"><li><span><a href=\"#Model\" data-toc-modified-id=\"Model-9.1\"><span class=\"toc-item-num\">9.1&nbsp;&nbsp;</span>Model</a></span></li><li><span><a href=\"#BOW\" data-toc-modified-id=\"BOW-9.2\"><span class=\"toc-item-num\">9.2&nbsp;&nbsp;</span>BOW</a></span></li><li><span><a href=\"#CBOW\" data-toc-modified-id=\"CBOW-9.3\"><span class=\"toc-item-num\">9.3&nbsp;&nbsp;</span>CBOW</a></span></li><li><span><a href=\"#DeepCBOW\" data-toc-modified-id=\"DeepCBOW-9.4\"><span class=\"toc-item-num\">9.4&nbsp;&nbsp;</span>DeepCBOW</a></span></li><li><span><a href=\"#Train\" data-toc-modified-id=\"Train-9.5\"><span class=\"toc-item-num\">9.5&nbsp;&nbsp;</span>Train</a></span></li></ul></li><li><span><a href=\"#Application\" data-toc-modified-id=\"Application-10\"><span class=\"toc-item-num\">10&nbsp;&nbsp;</span>Application</a></span><ul class=\"toc-item\"><li><span><a href=\"#Data-Process\" data-toc-modified-id=\"Data-Process-10.1\"><span class=\"toc-item-num\">10.1&nbsp;&nbsp;</span>Data Process</a></span><ul class=\"toc-item\"><li><span><a href=\"#Use-Character\" data-toc-modified-id=\"Use-Character-10.1.1\"><span class=\"toc-item-num\">10.1.1&nbsp;&nbsp;</span>Use Character</a></span></li><li><span><a href=\"#Use-Words\" data-toc-modified-id=\"Use-Words-10.1.2\"><span class=\"toc-item-num\">10.1.2&nbsp;&nbsp;</span>Use Words</a></span></li></ul></li><li><span><a href=\"#Model\" data-toc-modified-id=\"Model-10.2\"><span class=\"toc-item-num\">10.2&nbsp;&nbsp;</span>Model</a></span><ul class=\"toc-item\"><li><span><a href=\"#BOW\" data-toc-modified-id=\"BOW-10.2.1\"><span class=\"toc-item-num\">10.2.1&nbsp;&nbsp;</span>BOW</a></span></li><li><span><a href=\"#CBOW\" data-toc-modified-id=\"CBOW-10.2.2\"><span class=\"toc-item-num\">10.2.2&nbsp;&nbsp;</span>CBOW</a></span></li><li><span><a href=\"#Deep-CBOW\" data-toc-modified-id=\"Deep-CBOW-10.2.3\"><span class=\"toc-item-num\">10.2.3&nbsp;&nbsp;</span>Deep CBOW</a></span></li></ul></li><li><span><a href=\"#Train\" data-toc-modified-id=\"Train-10.3\"><span class=\"toc-item-num\">10.3&nbsp;&nbsp;</span>Train</a></span></li><li><span><a href=\"#Result\" data-toc-modified-id=\"Result-10.4\"><span class=\"toc-item-num\">10.4&nbsp;&nbsp;</span>Result</a></span><ul class=\"toc-item\"><li><span><a href=\"#Words-Result\" data-toc-modified-id=\"Words-Result-10.4.1\"><span class=\"toc-item-num\">10.4.1&nbsp;&nbsp;</span>Words Result</a></span></li><li><span><a href=\"#Character-Result\" data-toc-modified-id=\"Character-Result-10.4.2\"><span class=\"toc-item-num\">10.4.2&nbsp;&nbsp;</span>Character Result</a></span></li></ul></li><li><span><a href=\"#小结\" data-toc-modified-id=\"小结-10.5\"><span class=\"toc-item-num\">10.5&nbsp;&nbsp;</span>小结</a></span></li></ul></li></ul></div>"
   ]
  },
  {
   "cell_type": "markdown",
   "metadata": {},
   "source": [
    "- **Content**\n",
    "    - Introduction to Neural Networks\n",
    "    - Example Tasks and Their Difficulties\n",
    "    - What Neural Nets can Do To Help\n",
    "\n",
    "\n",
    "- **Reading Material**\n",
    "    - Highly Recommended: Goldberg Book: [Neural Network Methods for Natural Language Processing | Synthesis Lectures on Human Language Technologies](http://www.morganclaypool.com/doi/abs/10.2200/S00762ED1V01Y201703HLT037) Chapters 1-5.\n",
    "    - Reference: Deep Unordered Composition. (Iyyer et al.): [Deep Unordered Composition Rivals Syntactic Methods for Text Classification](http://aclweb.org/anthology/P15-1162)"
   ]
  },
  {
   "cell_type": "markdown",
   "metadata": {},
   "source": [
    "# Phenomena to Handle\n",
    "\n",
    "- Morphology: 词法\n",
    "- Syntax: 句法\n",
    "- Semantics/World Knowledge: 语义 \n",
    "- Discourse: 话语分析\n",
    "- Pragmatics: 语用"
   ]
  },
  {
   "cell_type": "markdown",
   "metadata": {},
   "source": [
    "# Neural Networks: A Tool for Doing Hard Things"
   ]
  },
  {
   "cell_type": "markdown",
   "metadata": {},
   "source": [
    "## Bag of Words (BOW)\n",
    "\n",
    "![BOW](http://qnimg.lovevivian.cn/CMU-nn4nlp/bow1.png)  \n",
    "\n",
    "如何处理语料中未出现的词（未登录词）？"
   ]
  },
  {
   "cell_type": "markdown",
   "metadata": {},
   "source": [
    "## Continuous Bag of Words (CBOW)\n",
    "\n",
    "![CBOW](http://qnimg.lovevivian.cn/CMU-nn4nlp/cbow.png)"
   ]
  },
  {
   "cell_type": "markdown",
   "metadata": {},
   "source": [
    "## Deep CBOW\n",
    "\n",
    "![DeepCBOW](http://qnimg.lovevivian.cn/CMU-nn4nlp/DeepCBOW.jpeg)"
   ]
  },
  {
   "cell_type": "markdown",
   "metadata": {},
   "source": [
    "# Computation Graphs"
   ]
  },
  {
   "cell_type": "markdown",
   "metadata": {},
   "source": [
    "An **edge** represents a function argument (and also an data dependency). They are just pointers to nodes.  \n",
    "\n",
    "A **node** with an incoming **edge** is a function of that edge’s tail node.  \n",
    "\n",
    "A **node** knows how to compute its value and the value of its derivative w.r.t each argument (edge) times a derivative of an arbitrary input: $$\\frac {\\partial \\mathcal{F}} {\\partial f(u)}$$"
   ]
  },
  {
   "cell_type": "markdown",
   "metadata": {},
   "source": [
    "![Graph](http://qnimg.lovevivian.cn/CMU-nn4nlp/graph1.jpeg)"
   ]
  },
  {
   "cell_type": "markdown",
   "metadata": {},
   "source": [
    "# Algorithms"
   ]
  },
  {
   "cell_type": "markdown",
   "metadata": {},
   "source": [
    "## Forward propagation\n",
    "\n",
    "- In topological order, compute the value of the node given its inputs"
   ]
  },
  {
   "cell_type": "markdown",
   "metadata": {},
   "source": [
    "![forward](http://qnimg.lovevivian.cn/CMU-nn4nlp/forward.jpeg)"
   ]
  },
  {
   "cell_type": "markdown",
   "metadata": {},
   "source": [
    "## Back-propagation\n",
    "\n",
    "- Process examples in reverse topological order\n",
    "- Calculate the derivatives of the parameters with respect to the final value   \n",
    "  (This is usually a “loss function”, a value we want to minimize)"
   ]
  },
  {
   "cell_type": "markdown",
   "metadata": {},
   "source": [
    "## Parameter update\n",
    "\n",
    "- Move the parameters in the direction of this derivative  \n",
    "\n",
    "$$W \\quad -= \\quad \\alpha * dL/dW$$"
   ]
  },
  {
   "cell_type": "markdown",
   "metadata": {},
   "source": [
    "# Neural Network Frameworks"
   ]
  },
  {
   "cell_type": "markdown",
   "metadata": {},
   "source": [
    "- Static Frameworks\n",
    "  - theano\n",
    "  - Caffe\n",
    "  - mxnet\n",
    "  - Tensorflow\n",
    "- **Dynamic Frameworks**\n",
    "  - ay/net\n",
    "  - Chainer\n",
    "  - Pythorch"
   ]
  },
  {
   "cell_type": "markdown",
   "metadata": {},
   "source": [
    "- Basic Process in Dynamic Neural Network Frameworks\n",
    "  - Create a model\n",
    "  - For each example\n",
    "    - **create a graph** that represents the computation you want\n",
    "    - **calculate the result** of that computation\n",
    "    - if training, perform **back propagation and update**"
   ]
  },
  {
   "cell_type": "markdown",
   "metadata": {},
   "source": [
    "# DyNet\n",
    "\n",
    "- intuitive\n",
    "- fast for complicated networks\n",
    "- nice features to make efficient implementation easier"
   ]
  },
  {
   "cell_type": "markdown",
   "metadata": {},
   "source": [
    "- Constant\n",
    "    - `dy.inputVector()`\n",
    "    - `dy.concatenate()`\n",
    "- Parameter\n",
    "    - `pW = model.add_parameters((4,4))`\n",
    "    - `pW2 = model.add_parameters((4,4), init=dy.GlorotInitializer())`\n",
    "    - `pW3 = model.add_parameters((4,4), init=dy.NormalInitializer(0,1))`\n",
    "    - `pW4 = model.parameters_from_numpy(np.eye(4))`\n",
    "- Trainer\n",
    "    - `dy.SimpleSGDTrainer(model)`\n",
    "    - `dy.MomentumSGDTrainer(model,...)`\n",
    "    - `dy.AdagradTrainer(model,...)`\n",
    "    - `dy.AdadeltaTrainer(model,...)`\n",
    "    - `dy.AdamTrainer(model,...)`\n",
    "- Training\n",
    "    - `dy.renew_cg()`\n",
    "    - `W = dy.parameter(pW)`\n",
    "    - `v2 = dy.dot_product(W,W)`\n",
    "    - `v2.forward()`\n",
    "    - `v2.backward() # compute gradients `\n",
    "    - `trainer.update() `"
   ]
  },
  {
   "cell_type": "markdown",
   "metadata": {},
   "source": [
    "## Computation Graph and Expressions\n",
    "\n",
    "- Create basic expressions.\n",
    "- Combine them using operations.\n",
    "- Expressions represent symbolic computations.\n",
    "\n",
    "- Use: \n",
    "- `.value()`\n",
    "- `.npvalue()`  \n",
    "- `.scalar_value()`  \n",
    "- `.vec_value()`\n",
    "- `.forward()`  \n",
    "\n",
    "to perform actual computation."
   ]
  },
  {
   "cell_type": "code",
   "execution_count": 1,
   "metadata": {},
   "outputs": [],
   "source": [
    "import dynet as dy"
   ]
  },
  {
   "cell_type": "code",
   "execution_count": 2,
   "metadata": {},
   "outputs": [],
   "source": [
    "dy.renew_cg() # create a new computation graph\n",
    "\n",
    "v1 = dy.inputVector([1,2,3,4])\n",
    "v2 = dy.inputVector([5,6,7,8])\n",
    "\n",
    "v3 = v1 + v2\n",
    "v4 = v3 * 2\n",
    "v5 = v1 + 1\n",
    "v6 = dy.concatenate([v1, v2, v3, v5]) # 连一行"
   ]
  },
  {
   "cell_type": "code",
   "execution_count": 3,
   "metadata": {},
   "outputs": [
    {
     "data": {
      "text/plain": [
       "expression 5/1"
      ]
     },
     "execution_count": 3,
     "metadata": {},
     "output_type": "execute_result"
    }
   ],
   "source": [
    "v6"
   ]
  },
  {
   "cell_type": "code",
   "execution_count": 4,
   "metadata": {},
   "outputs": [
    {
     "data": {
      "text/plain": [
       "array([  1.,   2.,   3.,   4.,   5.,   6.,   7.,   8.,   6.,   8.,  10.,\n",
       "        12.,   2.,   3.,   4.,   5.])"
      ]
     },
     "execution_count": 4,
     "metadata": {},
     "output_type": "execute_result"
    }
   ],
   "source": [
    "v6.npvalue()"
   ]
  },
  {
   "cell_type": "markdown",
   "metadata": {},
   "source": [
    "## Model and Parameters\n",
    "\n",
    "\n",
    "- Parameters are the things that we optimize over (vectors, matrices).\n",
    "- Model is a collection of parameters. \n",
    "- Parameters out-live the computation graph."
   ]
  },
  {
   "cell_type": "code",
   "execution_count": 18,
   "metadata": {},
   "outputs": [],
   "source": [
    "model = dy.Model()\n",
    "\n",
    "pW = model.add_parameters((20, 4))\n",
    "pb = model.add_parameters(20)\n",
    "\n",
    "dy.renew_cg()\n",
    "X = dy.inputVector([1,2,3,4])\n",
    "W = dy.parameter(pW) # convert params to expression\n",
    "b = dy.parameter(pb)\n",
    "\n",
    "y = W*X + b"
   ]
  },
  {
   "cell_type": "code",
   "execution_count": 27,
   "metadata": {},
   "outputs": [
    {
     "data": {
      "text/plain": [
       "numpy.ndarray"
      ]
     },
     "execution_count": 27,
     "metadata": {},
     "output_type": "execute_result"
    }
   ],
   "source": [
    "type(W.value())"
   ]
  },
  {
   "cell_type": "code",
   "execution_count": 28,
   "metadata": {},
   "outputs": [
    {
     "data": {
      "text/plain": [
       "list"
      ]
     },
     "execution_count": 28,
     "metadata": {},
     "output_type": "execute_result"
    }
   ],
   "source": [
    "type(X.value())"
   ]
  },
  {
   "cell_type": "markdown",
   "metadata": {},
   "source": [
    "## Parameter Initialization"
   ]
  },
  {
   "cell_type": "code",
   "execution_count": 70,
   "metadata": {},
   "outputs": [],
   "source": [
    "model = dy.Model()\n",
    "pW = model.add_parameters((4,4))\n",
    "pW2 = model.add_parameters((4,4), init=dy.GlorotInitializer())\n",
    "pW3 = model.add_parameters((4,4), init=dy.NormalInitializer(0,1))\n",
    "pW4 = model.parameters_from_numpy(np.eye(4))\n",
    "\n",
    "dy.renew_cg()\n",
    "W = dy.parameter(pW)\n",
    "W2 = dy.parameter(pW2)\n",
    "W3 = dy.parameter(pW3)\n",
    "W4 = dy.parameter(pW4)"
   ]
  },
  {
   "cell_type": "code",
   "execution_count": 72,
   "metadata": {},
   "outputs": [
    {
     "data": {
      "text/plain": [
       "array([[ 1.,  0.,  0.,  0.],\n",
       "       [ 0.,  1.,  0.,  0.],\n",
       "       [ 0.,  0.,  1.,  0.],\n",
       "       [ 0.,  0.,  0.,  1.]])"
      ]
     },
     "execution_count": 72,
     "metadata": {},
     "output_type": "execute_result"
    }
   ],
   "source": [
    "W4.value()"
   ]
  },
  {
   "cell_type": "markdown",
   "metadata": {},
   "source": [
    "## Trainers and Backdrop\n",
    "\n",
    "- Initialize a Trainer with a given model.\n",
    "- Compute gradients by calling `expr.backward()` from a scalar node.\n",
    "- Call `trainer.update()` to update the model parameters using the gradients."
   ]
  },
  {
   "cell_type": "code",
   "execution_count": 84,
   "metadata": {},
   "outputs": [],
   "source": [
    "model = dy.Model()\n",
    "\n",
    "trainer = dy.SimpleSGDTrainer(model)\n",
    "# dy.MomentumSGDTrainer(model,...)\n",
    "# dy.AdagradTrainer(model,...)\n",
    "# dy.AdadeltaTrainer(model,...)\n",
    "# dy.AdamTrainer(model,...)\n",
    "\n",
    "p_v = model.add_parameters(10)\n",
    "\n",
    "for i in range(10): \n",
    "    dy.renew_cg()\n",
    "    v = dy.parameter(p_v)\n",
    "    v2 = dy.dot_product(v,v)\n",
    "    v2.forward()\n",
    "    v2.backward() # compute gradients \n",
    "    trainer.update() # trainer.update()"
   ]
  },
  {
   "cell_type": "markdown",
   "metadata": {},
   "source": [
    "## Training with DyNet\n",
    "\n",
    "- Create model, add parameters, create trainer\n",
    "- For each training example:\n",
    "  - create computation graph for the loss \n",
    "  - run forward (compute the loss)\n",
    "  - run backward (compute the gradients) \n",
    "  - update parameters"
   ]
  },
  {
   "cell_type": "markdown",
   "metadata": {},
   "source": [
    "# Class Format/Structure\n",
    "\n",
    "- **Reading**: Before the class\n",
    "- **Quiz**: Simple questions about the required reading (should be easy)\n",
    "- **Summary/Elaboration/Questions**: Instructor or TAs will summarize the material, elaborate on details, and field questions\n",
    "- **Code Walk**: The TAs (or instructor) will walk through some demonstration code"
   ]
  },
  {
   "cell_type": "markdown",
   "metadata": {},
   "source": [
    "# Assignments\n",
    "\n",
    "- **Assignment 1**: Survey the field and implement a  baseline model\n",
    "- **Assignment 2**: Re-implement and reproduce results from a state-of-the-art model\n",
    "- **Project**: Perform a unique research project that either (1) improves on state-of-the-art, or (2) applies neural net models to a unique task"
   ]
  },
  {
   "cell_type": "markdown",
   "metadata": {},
   "source": [
    "# SampleCode"
   ]
  },
  {
   "cell_type": "code",
   "execution_count": 137,
   "metadata": {},
   "outputs": [],
   "source": [
    "from collections import defaultdict\n",
    "import time\n",
    "import random\n",
    "import dynet as dy\n",
    "import numpy as np\n",
    "import matplotlib.pyplot as plt\n",
    "%matplotlib inline"
   ]
  },
  {
   "cell_type": "code",
   "execution_count": 86,
   "metadata": {},
   "outputs": [],
   "source": [
    "# Functions to read in the corpus\n",
    "w2i = defaultdict(lambda: len(w2i))\n",
    "t2i = defaultdict(lambda: len(t2i))\n",
    "UNK = w2i[\"<unk>\"]\n",
    "def read_dataset(filename):\n",
    "    with open(filename, \"r\") as f:\n",
    "        for line in f:\n",
    "            tag, words = line.lower().strip().split(\" ||| \")\n",
    "            # generator\n",
    "            yield ([w2i[x] for x in words.split(\" \")], t2i[tag])"
   ]
  },
  {
   "cell_type": "code",
   "execution_count": 87,
   "metadata": {},
   "outputs": [],
   "source": [
    "# Read in the data\n",
    "# when do this, w2i will auto add factors\n",
    "train = list(read_dataset(\"../data/classes/train.txt\"))\n",
    "# set UNK for those didn't appear in train\n",
    "w2i = defaultdict(lambda: UNK, w2i)\n",
    "dev = list(read_dataset(\"../data/classes/test.txt\"))\n",
    "nwords = len(w2i)\n",
    "ntags = len(t2i)"
   ]
  },
  {
   "cell_type": "markdown",
   "metadata": {},
   "source": [
    "## Model"
   ]
  },
  {
   "cell_type": "code",
   "execution_count": 89,
   "metadata": {},
   "outputs": [],
   "source": [
    "# Start DyNet and define trainer\n",
    "model = dy.Model()\n",
    "trainer = dy.AdamTrainer(model)"
   ]
  },
  {
   "cell_type": "markdown",
   "metadata": {},
   "source": [
    "## BOW"
   ]
  },
  {
   "cell_type": "code",
   "execution_count": 90,
   "metadata": {},
   "outputs": [],
   "source": [
    "# Define the model\n",
    "W_sm = model.add_lookup_parameters((nwords, ntags)) # Word weights\n",
    "b_sm = model.add_parameters((ntags)) \n",
    "\n",
    "# A function to calculate scores for one value\n",
    "def calc_scores(words):\n",
    "    dy.renew_cg()\n",
    "    # dy.lookup x(5,) from W_sm(5, nwords)\n",
    "    # dy.esum combine all x in words(a sentence)\n",
    "    score = dy.esum([dy.lookup(W_sm, x) for x in words])\n",
    "    b_sm_exp = dy.parameter(b_sm)\n",
    "    return score + b_sm_exp"
   ]
  },
  {
   "cell_type": "markdown",
   "metadata": {},
   "source": [
    "## CBOW"
   ]
  },
  {
   "cell_type": "code",
   "execution_count": 90,
   "metadata": {},
   "outputs": [],
   "source": [
    "# Define the model\n",
    "EMB_SIZE = 64\n",
    "W_emb = model.add_lookup_parameters((nwords, EMB_SIZE)) # Word embeddings\n",
    "W_sm = model.add_parameters((ntags, EMB_SIZE))          # Softmax weights\n",
    "b_sm = model.add_parameters((ntags))                      # Softmax bias"
   ]
  },
  {
   "cell_type": "code",
   "execution_count": 91,
   "metadata": {},
   "outputs": [],
   "source": [
    "# A function to calculate scores for one value\n",
    "def calc_scores(words):\n",
    "    dy.renew_cg()\n",
    "    # (EMB_SIZE,)\n",
    "    cbow = dy.esum([dy.lookup(W_emb, x) for x in words])\n",
    "    # ntags * EMB_SIZE\n",
    "    W_sm_exp = dy.parameter(W_sm)\n",
    "    # (ntags,)\n",
    "    b_sm_exp = dy.parameter(b_sm)\n",
    "    # score + b\n",
    "    return W_sm_exp * cbow + b_sm_exp"
   ]
  },
  {
   "cell_type": "markdown",
   "metadata": {},
   "source": [
    "## DeepCBOW"
   ]
  },
  {
   "cell_type": "code",
   "execution_count": 92,
   "metadata": {},
   "outputs": [],
   "source": [
    "# Define the model\n",
    "EMB_SIZE = 64\n",
    "HID_SIZE = 64\n",
    "HID_LAY = 2\n",
    "W_emb = model.add_lookup_parameters((nwords, EMB_SIZE)) # Word embeddings\n",
    "# W_h: HID_SIZE, EMB_SIZE;  HID_SIZE\n",
    "W_h = [model.add_parameters((HID_SIZE, EMB_SIZE if lay == 0 else HID_SIZE)) for lay in range(HID_LAY)]\n",
    "b_h = [model.add_parameters((HID_SIZE)) for lay in range(HID_LAY)]\n",
    "W_sm = model.add_parameters((ntags, HID_SIZE))          # Softmax weights\n",
    "b_sm = model.add_parameters((ntags))                    # Softmax bias"
   ]
  },
  {
   "cell_type": "code",
   "execution_count": 93,
   "metadata": {},
   "outputs": [],
   "source": [
    "# A function to calculate scores for one value\n",
    "def calc_scores(words):\n",
    "    dy.renew_cg()\n",
    "    # (EMB_SIZE,)\n",
    "    h = dy.esum([dy.lookup(W_emb, x) for x in words])\n",
    "    \n",
    "    for W_h_i, b_h_i in zip(W_h, b_h):\n",
    "        # (HID_SIZE, EMB_SIZE) * (EMB_SIZE)\n",
    "        # (HID_SIZE,) * (HID_SIZE, )\n",
    "        h = dy.tanh( dy.parameter(W_h_i) * h + dy.parameter(b_h_i) )\n",
    "    return dy.parameter(W_sm) * h + dy.parameter(b_sm)"
   ]
  },
  {
   "cell_type": "markdown",
   "metadata": {},
   "source": [
    "## Train"
   ]
  },
  {
   "cell_type": "code",
   "execution_count": null,
   "metadata": {},
   "outputs": [],
   "source": [
    "for ITER in range(100):\n",
    "    \n",
    "    # Perform training\n",
    "    random.shuffle(train)\n",
    "    train_loss = 0.0\n",
    "    start = time.time()\n",
    "    \n",
    "    for words, tag in train:\n",
    "        # dy.pickneglogsoftmax\n",
    "        my_loss = dy.pickneglogsoftmax(calc_scores(words), tag)\n",
    "        train_loss += my_loss.value()\n",
    "        my_loss.backward()\n",
    "        trainer.update()\n",
    "    if ITER % 10 == 0:    \n",
    "        print(\"iter %r: train loss/sent=%.4f, time=%.2fs\" % \n",
    "              (ITER, train_loss/len(train), time.time()-start))\n",
    "    \n",
    "    # Perform testing\n",
    "    test_correct = 0.0\n",
    "    for words, tag in dev:\n",
    "        scores = calc_scores(words).npvalue()\n",
    "        predict = np.argmax(scores)\n",
    "        if predict == tag:\n",
    "            test_correct += 1\n",
    "    if ITER % 10 == 0:\n",
    "        print(\"iter %r: test acc=%.4f\" % (ITER, test_correct/len(dev)))"
   ]
  },
  {
   "cell_type": "markdown",
   "metadata": {},
   "source": [
    "# Application\n",
    "\n",
    "- We can make an emotion classifier"
   ]
  },
  {
   "cell_type": "markdown",
   "metadata": {},
   "source": [
    "## Data Process"
   ]
  },
  {
   "cell_type": "markdown",
   "metadata": {},
   "source": [
    "### Use Character"
   ]
  },
  {
   "cell_type": "code",
   "execution_count": 108,
   "metadata": {},
   "outputs": [],
   "source": [
    "w2i = defaultdict(lambda: len(w2i))\n",
    "UNK = w2i[\"<unk>\"]\n",
    "\n",
    "def read_dataset(filename, tag):\n",
    "    with open(filename, \"r\") as f:\n",
    "        for line in f:\n",
    "            words = line.lower().strip()\n",
    "            # generator\n",
    "            if len(words) > 0:\n",
    "                yield ([w2i[x] for x in words], tag)"
   ]
  },
  {
   "cell_type": "code",
   "execution_count": 109,
   "metadata": {},
   "outputs": [],
   "source": [
    "pos_train = list(read_dataset(\"../data/mydata/pos_train.txt\", \"1\"))\n",
    "neg_train = list(read_dataset(\"../data/mydata/neg_train.txt\", \"0\"))\n",
    "train = pos_train + neg_train\n",
    "w2i = defaultdict(lambda: UNK, w2i)\n",
    "pos_test = list(read_dataset(\"../data/mydata/pos_test.txt\", \"1\"))\n",
    "neg_test = list(read_dataset(\"../data/mydata/neg_test.txt\", \"0\"))\n",
    "test = pos_test + neg_test\n",
    "nwords = len(w2i)"
   ]
  },
  {
   "cell_type": "code",
   "execution_count": 110,
   "metadata": {},
   "outputs": [
    {
     "data": {
      "text/plain": [
       "4580"
      ]
     },
     "execution_count": 110,
     "metadata": {},
     "output_type": "execute_result"
    }
   ],
   "source": [
    "nwords"
   ]
  },
  {
   "cell_type": "code",
   "execution_count": 111,
   "metadata": {
    "scrolled": true
   },
   "outputs": [
    {
     "data": {
      "text/plain": [
       "(24585, 24585)"
      ]
     },
     "execution_count": 111,
     "metadata": {},
     "output_type": "execute_result"
    }
   ],
   "source": [
    "len(pos_train) + len(neg_train), len(train)"
   ]
  },
  {
   "cell_type": "code",
   "execution_count": 112,
   "metadata": {},
   "outputs": [
    {
     "data": {
      "text/plain": [
       "(10538, 10538)"
      ]
     },
     "execution_count": 112,
     "metadata": {},
     "output_type": "execute_result"
    }
   ],
   "source": [
    "len(pos_test) + len(neg_test), len(test)"
   ]
  },
  {
   "cell_type": "markdown",
   "metadata": {},
   "source": [
    "### Use Words"
   ]
  },
  {
   "cell_type": "code",
   "execution_count": 170,
   "metadata": {},
   "outputs": [],
   "source": [
    "import jieba"
   ]
  },
  {
   "cell_type": "code",
   "execution_count": 187,
   "metadata": {},
   "outputs": [],
   "source": [
    "w2i = defaultdict(lambda: len(w2i))\n",
    "UNK = w2i[\"<unk>\"]\n",
    "\n",
    "def read_dataset(filename, tag):\n",
    "    with open(filename, \"r\") as f:\n",
    "        for line in f:\n",
    "            words = list(jieba.cut(line.lower().strip()))\n",
    "            # generator\n",
    "            if len(words) > 0:\n",
    "                yield ([w2i[x] for x in words], tag)"
   ]
  },
  {
   "cell_type": "code",
   "execution_count": 190,
   "metadata": {},
   "outputs": [],
   "source": [
    "pos_train = list(read_dataset(\"../data/mydata/pos_train.txt\", \"1\"))\n",
    "neg_train = list(read_dataset(\"../data/mydata/neg_train.txt\", \"0\"))\n",
    "train = pos_train + neg_train\n",
    "w2i = defaultdict(lambda: UNK, w2i)\n",
    "pos_test = list(read_dataset(\"../data/mydata/pos_test.txt\", \"1\"))\n",
    "neg_test = list(read_dataset(\"../data/mydata/neg_test.txt\", \"0\"))\n",
    "test = pos_test + neg_test\n",
    "nwords = len(w2i)"
   ]
  },
  {
   "cell_type": "code",
   "execution_count": 191,
   "metadata": {},
   "outputs": [
    {
     "data": {
      "text/plain": [
       "43107"
      ]
     },
     "execution_count": 191,
     "metadata": {},
     "output_type": "execute_result"
    }
   ],
   "source": [
    "nwords"
   ]
  },
  {
   "cell_type": "markdown",
   "metadata": {},
   "source": [
    "## Model"
   ]
  },
  {
   "cell_type": "code",
   "execution_count": 202,
   "metadata": {},
   "outputs": [],
   "source": [
    "model = dy.Model()\n",
    "trainer = dy.AdamTrainer(model)\n",
    "EMB_SIZE = 64\n",
    "HID_SIZE = 64\n",
    "HID_LAY = 2"
   ]
  },
  {
   "cell_type": "markdown",
   "metadata": {},
   "source": [
    "### BOW"
   ]
  },
  {
   "cell_type": "code",
   "execution_count": 195,
   "metadata": {},
   "outputs": [],
   "source": [
    "# BOW\n",
    "W_sm = model.add_lookup_parameters((nwords, 2))\n",
    "b_sm = model.add_parameters((2))\n",
    "\n",
    "def calc_scores(words):\n",
    "    dy.renew_cg()\n",
    "    score = dy.esum([dy.lookup(W_sm, x) for x in words])\n",
    "    b_sm_exp = dy.parameter(b_sm)\n",
    "    return score + b_sm_exp"
   ]
  },
  {
   "cell_type": "markdown",
   "metadata": {},
   "source": [
    "### CBOW"
   ]
  },
  {
   "cell_type": "code",
   "execution_count": 199,
   "metadata": {},
   "outputs": [],
   "source": [
    "# CBOW\n",
    "W_emb = model.add_lookup_parameters((nwords, EMB_SIZE))\n",
    "W_sm = model.add_parameters((2, EMB_SIZE))\n",
    "b_sm = model.add_parameters((2))\n",
    "\n",
    "def calc_scores(words):\n",
    "    dy.renew_cg()\n",
    "    score = dy.esum([dy.lookup(W_emb, x) for x in words])\n",
    "    W_sm_exp = dy.parameter(W_sm)\n",
    "    b_sm_exp = dy.parameter(b_sm)\n",
    "    return W_sm_exp * score + b_sm_exp"
   ]
  },
  {
   "cell_type": "markdown",
   "metadata": {},
   "source": [
    "### Deep CBOW"
   ]
  },
  {
   "cell_type": "code",
   "execution_count": 203,
   "metadata": {},
   "outputs": [],
   "source": [
    "# Deep CBOW\n",
    "W_emb = model.add_lookup_parameters((nwords, EMB_SIZE))\n",
    "\n",
    "W_h = [model.add_parameters((HID_SIZE, EMB_SIZE if lay==0 else HID_SIZE)) \n",
    "       for lay in range(HID_LAY)]\n",
    "b_h = [model.add_parameters((HID_SIZE)) for lay in range(HID_LAY)]\n",
    "W_sm = model.add_parameters((2, HID_SIZE))\n",
    "b_sm = model.add_parameters((2))\n",
    "\n",
    "def calc_scores(words):\n",
    "    dy.renew_cg()\n",
    "    score = dy.esum([dy.lookup(W_emb, x) for x in words])\n",
    "    for W_h_i, b_h_i in zip(W_h, b_h):\n",
    "        score = dy.tanh(dy.parameter(W_h_i) * score + dy.parameter(b_h_i))\n",
    "    return dy.parameter(W_sm) * score + dy.parameter(b_sm)"
   ]
  },
  {
   "cell_type": "markdown",
   "metadata": {},
   "source": [
    "## Train"
   ]
  },
  {
   "cell_type": "code",
   "execution_count": 204,
   "metadata": {},
   "outputs": [
    {
     "name": "stdout",
     "output_type": "stream",
     "text": [
      "iter 0: train loss/sent=0.4451, time=5.39s\n",
      "iter 0: test acc=0.8680\n",
      "iter 10: train loss/sent=0.0338, time=3.99s\n",
      "iter 10: test acc=0.9292\n",
      "iter 20: train loss/sent=0.0219, time=4.42s\n",
      "iter 20: test acc=0.9314\n",
      "iter 30: train loss/sent=0.0200, time=7.43s\n",
      "iter 30: test acc=0.9345\n",
      "iter 40: train loss/sent=0.0173, time=4.12s\n",
      "iter 40: test acc=0.9337\n",
      "iter 50: train loss/sent=0.0201, time=4.05s\n",
      "iter 50: test acc=0.9343\n",
      "iter 60: train loss/sent=0.0197, time=3.74s\n",
      "iter 60: test acc=0.9342\n",
      "iter 70: train loss/sent=0.0165, time=3.93s\n",
      "iter 70: test acc=0.9305\n",
      "iter 80: train loss/sent=0.0186, time=3.64s\n",
      "iter 80: test acc=0.9342\n",
      "iter 90: train loss/sent=0.0160, time=3.93s\n",
      "iter 90: test acc=0.9283\n"
     ]
    }
   ],
   "source": [
    "losses = []\n",
    "acces = []\n",
    "for i in range(100):\n",
    "    random.shuffle(train)\n",
    "    train_loss = 0.0\n",
    "    start = time.time()\n",
    "    for words, tag in train:\n",
    "        my_loss = dy.pickneglogsoftmax(calc_scores(words), int(tag))\n",
    "        train_loss += my_loss.value()\n",
    "        my_loss.backward()\n",
    "        trainer.update()\n",
    "    losses.append(train_loss/len(train))\n",
    "    if i % 10 == 0:\n",
    "        print(\"iter %r: train loss/sent=%.4f, time=%.2fs\" % \n",
    "              (i, train_loss/len(train), time.time()-start))\n",
    "    \n",
    "    test_correct = 0.0\n",
    "    for words, tag in test:\n",
    "        scores = calc_scores(words).npvalue()\n",
    "        predict = np.argmax(scores)\n",
    "        if predict == int(tag):\n",
    "            test_correct += 1\n",
    "    acces.append(test_correct/len(test))\n",
    "    if i % 10 == 0:\n",
    "        print(\"iter %r: test acc=%.4f\" % \n",
    "              (i,test_correct/len(test)))"
   ]
  },
  {
   "cell_type": "markdown",
   "metadata": {},
   "source": [
    "## Result"
   ]
  },
  {
   "cell_type": "markdown",
   "metadata": {},
   "source": [
    "### Words Result"
   ]
  },
  {
   "cell_type": "code",
   "execution_count": 197,
   "metadata": {},
   "outputs": [
    {
     "data": {
      "image/png": "[encoded data removed]",
      "text/plain": [
       "<matplotlib.figure.Figure at 0x12ba18828>"
      ]
     },
     "metadata": {},
     "output_type": "display_data"
    }
   ],
   "source": [
    "# bow\n",
    "bow_loss = losses # min 0.0959\n",
    "bow_acc = acces # max 0.8953\n",
    "plt.plot(losses);\n",
    "plt.plot(acces);"
   ]
  },
  {
   "cell_type": "code",
   "execution_count": 201,
   "metadata": {},
   "outputs": [
    {
     "data": {
      "image/png": "[encoded data removed]",
      "text/plain": [
       "<matplotlib.figure.Figure at 0x12fa09a90>"
      ]
     },
     "metadata": {},
     "output_type": "display_data"
    }
   ],
   "source": [
    "# cbow\n",
    "cbow_loss = losses # min 0.0778\n",
    "cbow_acc = acces # max 0.9229\n",
    "plt.plot(losses);\n",
    "plt.plot(acces);"
   ]
  },
  {
   "cell_type": "code",
   "execution_count": 205,
   "metadata": {},
   "outputs": [
    {
     "data": {
      "image/png": "[encoded data removed]",
      "text/plain": [
       "<matplotlib.figure.Figure at 0x12d2f2e10>"
      ]
     },
     "metadata": {},
     "output_type": "display_data"
    }
   ],
   "source": [
    "# deep cbow\n",
    "deep_cbow_loss = losses # min = 0.0160\n",
    "deep_cbow_acc = acces # max 0.9345\n",
    "plt.plot(losses);\n",
    "plt.plot(acces);"
   ]
  },
  {
   "cell_type": "markdown",
   "metadata": {},
   "source": [
    "### Character Result"
   ]
  },
  {
   "cell_type": "code",
   "execution_count": 160,
   "metadata": {},
   "outputs": [
    {
     "data": {
      "image/png": "[encoded data removed]",
      "text/plain": [
       "<matplotlib.figure.Figure at 0x12c3ac9b0>"
      ]
     },
     "metadata": {},
     "output_type": "display_data"
    }
   ],
   "source": [
    "# bow\n",
    "bow_loss = losses # min 0.3399\n",
    "bow_acc = acces # max 0.8396\n",
    "plt.plot(losses);\n",
    "plt.plot(acces);"
   ]
  },
  {
   "cell_type": "code",
   "execution_count": 164,
   "metadata": {},
   "outputs": [
    {
     "data": {
      "image/png": "[encoded data removed]",
      "text/plain": [
       "<matplotlib.figure.Figure at 0x12c1b1fd0>"
      ]
     },
     "metadata": {},
     "output_type": "display_data"
    }
   ],
   "source": [
    "# cbow\n",
    "cbow_loss = losses # min 0.4422\n",
    "cbow_acc = acces # max 0.8459\n",
    "plt.plot(losses);\n",
    "plt.plot(acces);"
   ]
  },
  {
   "cell_type": "code",
   "execution_count": 169,
   "metadata": {},
   "outputs": [
    {
     "data": {
      "image/png": "[encoded data removed]",
      "text/plain": [
       "<matplotlib.figure.Figure at 0x12c2e6828>"
      ]
     },
     "metadata": {},
     "output_type": "display_data"
    }
   ],
   "source": [
    "# deep cbow\n",
    "deep_cbow_loss = losses # min = 0.0589\n",
    "deep_cbow_acc = acces # max 0.9252\n",
    "plt.plot(losses);\n",
    "plt.plot(acces);"
   ]
  },
  {
   "cell_type": "markdown",
   "metadata": {},
   "source": [
    "## 小结\n",
    "\n",
    "本节课主要学习了词的表示，即词向量。  \n",
    "而对应在模型中，主要用到三种方式：  \n",
    "\n",
    "- BOW\n",
    "- CBOW\n",
    "- Deep CBOW\n",
    "\n",
    "三者的主要区别在针对句子的每个词（字） Embedding 相加后的操作，Embedding 的动作是一致的。 \n",
    "三种模型效果递增。  \n",
    "\n",
    "需要注意的是，我们这里由于最终的输出是分类器，所以输出的维度和分类器的类别一致，  \n",
    "如果需要预测下一个词，那么维度就变成了 EMB_SIZE 了。  \n",
    "\n",
    "还有一点和以往不同的是，我们没有固定每条训练数据（句子）的长度，所以也不需要 Padding。  \n",
    "Padding 的方式是：固定每个句子的长度（比如 30，50），超出长度的隔断，不足的用 0 填充，这样我们获得的训练数据就变成了： \n",
    "`固定长度句子 n（含固定个数单词） -- 标签`  \n",
    "此时，输入为 `batch_size * n * EMB_size` 的张量。其余都是一样的。\n",
    "\n",
    "另外，我们在应用中尝试了用字模型和词模型分别训练模型，结果显而易见：词模型要优一些，但！并没有特别大的优势！尤其在 BOW 和 Deep CBOW 上相差很小。  \n",
    "特别值得一提的是，字模型的 nwords 只有 4508 个，而词模型的则高达 43107 个。  "
   ]
  }
 ],
 "metadata": {
  "kernelspec": {
   "display_name": "Python 3",
   "language": "python",
   "name": "python3"
  },
  "language_info": {
   "codemirror_mode": {
    "name": "ipython",
    "version": 3
   },
   "file_extension": ".py",
   "mimetype": "text/x-python",
   "name": "python",
   "nbconvert_exporter": "python",
   "pygments_lexer": "ipython3",
   "version": "3.7.2"
  },
  "latex_envs": {
   "LaTeX_envs_menu_present": true,
   "autoclose": false,
   "autocomplete": true,
   "bibliofile": "biblio.bib",
   "cite_by": "apalike",
   "current_citInitial": 1,
   "eqLabelWithNumbers": true,
   "eqNumInitial": 1,
   "hotkeys": {
    "equation": "Ctrl-E",
    "itemize": "Ctrl-I"
   },
   "labels_anchors": false,
   "latex_user_defs": false,
   "report_style_numbering": false,
   "user_envs_cfg": false
  },
  "toc": {
   "base_numbering": 1,
   "nav_menu": {
    "height": "156px",
    "width": "252px"
   },
   "number_sections": true,
   "sideBar": true,
   "skip_h1_title": false,
   "title_cell": "Table of Contents",
   "title_sidebar": "Contents",
   "toc_cell": true,
   "toc_position": {},
   "toc_section_display": "block",
   "toc_window_display": true
  }
 },
 "nbformat": 4,
 "nbformat_minor": 2
}
