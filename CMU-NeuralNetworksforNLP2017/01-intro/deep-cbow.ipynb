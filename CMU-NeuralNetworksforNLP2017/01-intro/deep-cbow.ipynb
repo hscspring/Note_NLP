{
 "cells": [
  {
   "cell_type": "code",
   "execution_count": 1,
   "metadata": {},
   "outputs": [],
   "source": [
    "from collections import defaultdict\n",
    "import time\n",
    "import random\n",
    "import dynet as dy\n",
    "import numpy as np\n",
    "\n",
    "# Functions to read in the corpus\n",
    "w2i = defaultdict(lambda: len(w2i))\n",
    "t2i = defaultdict(lambda: len(t2i))\n",
    "UNK = w2i[\"<unk>\"]\n",
    "def read_dataset(filename):\n",
    "    with open(filename, \"r\") as f:\n",
    "        for line in f:\n",
    "            tag, words = line.lower().strip().split(\" ||| \")\n",
    "            yield ([w2i[x] for x in words.split(\" \")], t2i[tag])\n",
    "\n",
    "# Read in the data\n",
    "train = list(read_dataset(\"../data/classes/train.txt\"))\n",
    "w2i = defaultdict(lambda: UNK, w2i)\n",
    "dev = list(read_dataset(\"../data/classes/test.txt\"))\n",
    "nwords = len(w2i)\n",
    "ntags = len(t2i)\n",
    "\n",
    "# Start DyNet and define trainer\n",
    "model = dy.Model()\n",
    "trainer = dy.AdamTrainer(model)"
   ]
  },
  {
   "cell_type": "code",
   "execution_count": 19,
   "metadata": {},
   "outputs": [],
   "source": [
    "# Define the model\n",
    "EMB_SIZE = 64\n",
    "HID_SIZE = 64\n",
    "HID_LAY = 3\n",
    "W_emb = model.add_lookup_parameters((nwords, EMB_SIZE)) # Word embeddings\n",
    "# W_h: HID_SIZE, EMB_SIZE;  HID_SIZE\n",
    "W_h = [model.add_parameters((HID_SIZE, EMB_SIZE if lay == 0 else HID_SIZE)) for lay in range(HID_LAY)]\n",
    "b_h = [model.add_parameters((HID_SIZE)) for lay in range(HID_LAY)]\n",
    "W_sm = model.add_parameters((ntags, HID_SIZE))          # Softmax weights\n",
    "b_sm = model.add_parameters((ntags))                    # Softmax bias"
   ]
  },
  {
   "cell_type": "code",
   "execution_count": 20,
   "metadata": {},
   "outputs": [],
   "source": [
    "# A function to calculate scores for one value\n",
    "def calc_scores(words):\n",
    "    dy.renew_cg()\n",
    "    # (EMB_SIZE,)\n",
    "    h = dy.esum([dy.lookup(W_emb, x) for x in words])\n",
    "    \n",
    "    for W_h_i, b_h_i in zip(W_h, b_h):\n",
    "        # (HID_SIZE, EMB_SIZE) * (EMB_SIZE)\n",
    "        # (HID_SIZE,) * (HID_SIZE, )\n",
    "        h = dy.tanh( dy.parameter(W_h_i) * h + dy.parameter(b_h_i) )\n",
    "    return dy.parameter(W_sm) * h + dy.parameter(b_sm)"
   ]
  },
  {
   "cell_type": "code",
   "execution_count": 11,
   "metadata": {},
   "outputs": [],
   "source": [
    "h = dy.esum([dy.lookup(W_emb, x) for x in train[0][0]])"
   ]
  },
  {
   "cell_type": "code",
   "execution_count": 12,
   "metadata": {},
   "outputs": [
    {
     "data": {
      "text/plain": [
       "(64,)"
      ]
     },
     "execution_count": 12,
     "metadata": {},
     "output_type": "execute_result"
    }
   ],
   "source": [
    "h.npvalue().shape"
   ]
  },
  {
   "cell_type": "code",
   "execution_count": 21,
   "metadata": {},
   "outputs": [
    {
     "name": "stdout",
     "output_type": "stream",
     "text": [
      "iter 0: train loss/sent=1.5639, time=2.57s\n",
      "iter 0: test acc=0.3869\n",
      "iter 10: train loss/sent=0.1955, time=3.51s\n",
      "iter 10: test acc=0.3529\n",
      "iter 20: train loss/sent=0.0487, time=2.96s\n",
      "iter 20: test acc=0.3548\n",
      "iter 30: train loss/sent=0.0421, time=3.13s\n",
      "iter 30: test acc=0.3715\n",
      "iter 40: train loss/sent=0.0327, time=3.27s\n",
      "iter 40: test acc=0.3498\n",
      "iter 50: train loss/sent=0.0425, time=2.99s\n",
      "iter 50: test acc=0.3683\n",
      "iter 60: train loss/sent=0.0433, time=3.22s\n",
      "iter 60: test acc=0.3561\n",
      "iter 70: train loss/sent=0.0307, time=3.56s\n",
      "iter 70: test acc=0.3638\n",
      "iter 80: train loss/sent=0.0284, time=4.10s\n",
      "iter 80: test acc=0.3792\n",
      "iter 90: train loss/sent=0.0400, time=3.82s\n",
      "iter 90: test acc=0.3584\n"
     ]
    }
   ],
   "source": [
    "for ITER in range(100):\n",
    "    # Perform training\n",
    "    random.shuffle(train)\n",
    "    train_loss = 0.0\n",
    "    start = time.time()\n",
    "    for words, tag in train:\n",
    "        my_loss = dy.pickneglogsoftmax(calc_scores(words), tag)\n",
    "        train_loss += my_loss.value()\n",
    "        my_loss.backward()\n",
    "        trainer.update()\n",
    "    if ITER % 10 == 0:\n",
    "        print(\"iter %r: train loss/sent=%.4f, time=%.2fs\" % (ITER, train_loss/len(train), time.time()-start))\n",
    "    \n",
    "    # Perform testing\n",
    "    test_correct = 0.0\n",
    "    for words, tag in dev:\n",
    "        scores = calc_scores(words).npvalue()\n",
    "        predict = np.argmax(scores)\n",
    "        if predict == tag:\n",
    "            test_correct += 1\n",
    "    if ITER % 10 == 0:\n",
    "        print(\"iter %r: test acc=%.4f\" % (ITER, test_correct/len(dev)))"
   ]
  },
  {
   "cell_type": "code",
   "execution_count": 25,
   "metadata": {},
   "outputs": [
    {
     "data": {
      "text/plain": [
       "2"
      ]
     },
     "execution_count": 25,
     "metadata": {},
     "output_type": "execute_result"
    }
   ],
   "source": [
    "np.argmax([1,2,3])"
   ]
  },
  {
   "cell_type": "code",
   "execution_count": null,
   "metadata": {},
   "outputs": [],
   "source": []
  }
 ],
 "metadata": {
  "kernelspec": {
   "display_name": "Python 3",
   "language": "python",
   "name": "python3"
  },
  "language_info": {
   "codemirror_mode": {
    "name": "ipython",
    "version": 3
   },
   "file_extension": ".py",
   "mimetype": "text/x-python",
   "name": "python",
   "nbconvert_exporter": "python",
   "pygments_lexer": "ipython3",
   "version": "3.7.2"
  },
  "latex_envs": {
   "LaTeX_envs_menu_present": true,
   "autoclose": false,
   "autocomplete": true,
   "bibliofile": "biblio.bib",
   "cite_by": "apalike",
   "current_citInitial": 1,
   "eqLabelWithNumbers": true,
   "eqNumInitial": 1,
   "hotkeys": {
    "equation": "Ctrl-E",
    "itemize": "Ctrl-I"
   },
   "labels_anchors": false,
   "latex_user_defs": false,
   "report_style_numbering": false,
   "user_envs_cfg": false
  },
  "toc": {
   "base_numbering": 1,
   "nav_menu": {
    "height": "12px",
    "width": "252px"
   },
   "number_sections": true,
   "sideBar": true,
   "skip_h1_title": false,
   "title_cell": "Table of Contents",
   "title_sidebar": "Contents",
   "toc_cell": false,
   "toc_position": {},
   "toc_section_display": "block",
   "toc_window_display": false
  }
 },
 "nbformat": 4,
 "nbformat_minor": 2
}
