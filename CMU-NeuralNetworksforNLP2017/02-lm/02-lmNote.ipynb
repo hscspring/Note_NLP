{
 "cells": [
  {
   "cell_type": "markdown",
   "metadata": {
    "toc": "true"
   },
   "source": [
    "<h1>Table of Contents<span class=\"tocSkip\"></span></h1>\n",
    "<div class=\"toc\"><ul class=\"toc-item\"><li><span><a href=\"#Review:-Count-based-Language-Models\" data-toc-modified-id=\"Review:-Count-based-Language-Models-1\"><span class=\"toc-item-num\">1&nbsp;&nbsp;</span>Review: Count-based Language Models</a></span><ul class=\"toc-item\"><li><span><a href=\"#Ngram\" data-toc-modified-id=\"Ngram-1.1\"><span class=\"toc-item-num\">1.1&nbsp;&nbsp;</span>Ngram</a></span></li><li><span><a href=\"#Why-Bi-or-Tri-gram\" data-toc-modified-id=\"Why-Bi-or-Tri-gram-1.2\"><span class=\"toc-item-num\">1.2&nbsp;&nbsp;</span>Why Bi or Tri gram</a></span></li><li><span><a href=\"#Smoothing\" data-toc-modified-id=\"Smoothing-1.3\"><span class=\"toc-item-num\">1.3&nbsp;&nbsp;</span>Smoothing</a></span><ul class=\"toc-item\"><li><span><a href=\"#Laplace-Smoothing\" data-toc-modified-id=\"Laplace-Smoothing-1.3.1\"><span class=\"toc-item-num\">1.3.1&nbsp;&nbsp;</span>Laplace Smoothing</a></span></li><li><span><a href=\"#Add-k-Smoothing\" data-toc-modified-id=\"Add-k-Smoothing-1.3.2\"><span class=\"toc-item-num\">1.3.2&nbsp;&nbsp;</span>Add-k Smoothing</a></span></li><li><span><a href=\"#Backoff-and-Interpolation\" data-toc-modified-id=\"Backoff-and-Interpolation-1.3.3\"><span class=\"toc-item-num\">1.3.3&nbsp;&nbsp;</span>Backoff and Interpolation</a></span></li></ul></li><li><span><a href=\"#Kneser-Ney-Smoothing\" data-toc-modified-id=\"Kneser-Ney-Smoothing-1.4\"><span class=\"toc-item-num\">1.4&nbsp;&nbsp;</span>Kneser-Ney Smoothing</a></span></li><li><span><a href=\"#The-Web-and-Stupid-Backoff\" data-toc-modified-id=\"The-Web-and-Stupid-Backoff-1.5\"><span class=\"toc-item-num\">1.5&nbsp;&nbsp;</span>The Web and Stupid Backoff</a></span></li><li><span><a href=\"#Evaluating-Language-Models\" data-toc-modified-id=\"Evaluating-Language-Models-1.6\"><span class=\"toc-item-num\">1.6&nbsp;&nbsp;</span>Evaluating Language Models</a></span><ul class=\"toc-item\"><li><span><a href=\"#Perplexity\" data-toc-modified-id=\"Perplexity-1.6.1\"><span class=\"toc-item-num\">1.6.1&nbsp;&nbsp;</span>Perplexity</a></span></li><li><span><a href=\"#Advanced:-Perplexity’s-Relation-to-Entropy\" data-toc-modified-id=\"Advanced:-Perplexity’s-Relation-to-Entropy-1.6.2\"><span class=\"toc-item-num\">1.6.2&nbsp;&nbsp;</span>Advanced: Perplexity’s Relation to Entropy</a></span></li></ul></li><li><span><a href=\"#What-Can-we-Do-w/-LMs?\" data-toc-modified-id=\"What-Can-we-Do-w/-LMs?-1.7\"><span class=\"toc-item-num\">1.7&nbsp;&nbsp;</span>What Can we Do w/ LMs?</a></span></li><li><span><a href=\"#Problems-and-Solutions?\" data-toc-modified-id=\"Problems-and-Solutions?-1.8\"><span class=\"toc-item-num\">1.8&nbsp;&nbsp;</span>Problems and Solutions?</a></span></li></ul></li><li><span><a href=\"#An-Alternative-Featurized-Log-Linear-Models\" data-toc-modified-id=\"An-Alternative-Featurized-Log-Linear-Models-2\"><span class=\"toc-item-num\">2&nbsp;&nbsp;</span>An Alternative Featurized Log-Linear Models</a></span></li></ul></div>"
   ]
  },
  {
   "cell_type": "markdown",
   "metadata": {},
   "source": [
    "- **Content**\n",
    "    - Computational Graphs\n",
    "    - Feed-forward Neural Network Language Models\n",
    "    - Measuring Model Performance: Likelihood and Perplexity\n",
    "\n",
    "- **Reading Material**\n",
    "\n",
    "    - Highly Recommended: Goldberg Book Chapters 8-9\n",
    "    - Reference: Goldberg Book Chapters 6-7 (because CS11-711 is a pre-requisite, I will assume you know most of this already, but it might be worth browsing for terminology, etc.)\n",
    "    - Reference: [Maximum entropy (log-linear) language models](http://repository.cmu.edu/cgi/viewcontent.cgi?article=2337&context=compsci). (Rosenfeld 1996)\n",
    "    - Reference: [A Neural Probabilistic Language Model](http://www.jmlr.org/papers/volume3/bengio03a/bengio03a.pdf). (Bengio et al. 2003, JMLR)\n",
    "    - Reference: [An Overview of Gradient Descent Algorithms](http://ruder.io/optimizing-gradient-descent/index.html#whichoptimizertochoose). (Ruder 2016)\n",
    "    - Reference: [The Marginal Value of Adaptive Gradient Methods](https://arxiv.org/pdf/1705.08292.pdf). (Wilson et al. 2017)\n",
    "    - Reference: [Stronger Baselines for Neural MT](http://phontron.com/class/nn4nlp2017/schedule.html). (Denkowski   Neubig 2017)\n",
    "    - Reference: [Using the Output Embedding](https://arxiv.org/pdf/1608.05859.pdf). (Press and Wolf 2016)\n",
    "    \n",
    "- **Add**\n",
    "\n",
    "    - [Standford: Language Modeling with Ngrams](https://web.stanford.edu/~jurafsky/slp3/4.pdf)"
   ]
  },
  {
   "cell_type": "markdown",
   "metadata": {},
   "source": [
    "# Review: Count-based Language Models"
   ]
  },
  {
   "cell_type": "markdown",
   "metadata": {},
   "source": [
    "## Ngram"
   ]
  },
  {
   "cell_type": "markdown",
   "metadata": {},
   "source": [
    "- Count up the frequency and divide (use maximum likelihood estimation or MLE):\n",
    "  $$P_{ML}(x_i | x_{i-n+1} ,..., x_{i-1}) := \\frac {c(x_{i-n+1,...,x_i})}{c(x_{i-n+1},...,x_{i-1})}$$  \n",
    "  Example: $$P(you | i\\ love) := \\frac {c(i\\ love\\ you)}{c(i\\ love)}$$  \n",
    "  More Generally: $$P(w_1^n) = P(w_1)P(w_2 | w_1)P(w_3|w_1^2)...P(w_n|w_1^{n-1}) = \\prod_{i=1}^{n} P(w_i|w_1^{i-1})$$\n",
    "- For N-gram  \n",
    "  - Next Word:  \n",
    "  $$P(w_n|w_1^{n-1}) \\approx P(w_n|w_{n-N+1}^{n-1}) = \\frac {C(w_{n-N+1}^{n-1}w_n)}{C(w_{n-N+1}^{n-1})}$$  \n",
    "  - prob of sentence:  \n",
    "  $$P(w_1^n) \\approx \\prod_{i=1}^{n} P(w_i|w_{i-1}...w_{i-N+1})$$ \n",
    "- For Bigram  \n",
    "  - prob of sentence:  \n",
    "  $$P(w_1^n) \\approx \\prod_{i=1}^{n} P(w_i|w_{i-1})$$   \n",
    "  - Next Word:  \n",
    "  $$P(w_n|w_{n-1}) = \\frac {C(w_{n-1}w_n)}{\\sum_w C(w_{n-1} w)} = \\frac {C(w_{n-1}w_n)}{C(w_{n-1})}$$"
   ]
  },
  {
   "cell_type": "markdown",
   "metadata": {},
   "source": [
    "## Why Bi or Tri gram"
   ]
  },
  {
   "cell_type": "markdown",
   "metadata": {},
   "source": [
    ">While this method of estimating probabilities directly from counts works ﬁne in many cases, it turns out that even the web isn’t big enough to give us good estimates in most cases. This is because language is creative; new sentences are created all the time, and we won’t always be able to count entire sentences. Even simple extensions of the example sentence may have counts of zero on the web (such as “Walden Pond’s water is so transparent that the”).  \n",
    "\n",
    ">Similarly, if we wanted to know the joint probability of an entire sequence of words like its water is so transparent, we could do it by asking “out of all possible sequences of ﬁve words, how many of them are its water is so transparent?” We would have to get the count of its water is so transparent and divide by the sum of the counts of all possible ﬁve word sequences. That seems rather a lot to estimate! \n",
    "\n",
    "\n",
    "- 语言具有极强的创造性（尤其是中文！！），它是无穷的，我们无法数完所有的句子；而且，也正是如此，会导致很多并不复杂的句子出现次数为 0，比如：“我喜欢张馨予”，这句话可能在语料中压根就不存在，那模型就会认为这句话的概率为 0，但这句话其实是很普通的一句话。  \n",
    "- 另一方面，要数出 “我喜欢张馨予” 的次数，我们需要把语料全部变成六元短语。比如我们假设语料是这么一句话：“我喜欢吃面，我不喜欢张雨绮，我喜欢张馨予。”因为我们事先并不知道 “我喜欢张馨予” 不存在，所以只好把语料变成：“我喜欢吃面，|喜欢吃面，我|欢吃面，我不|……“，然后去数。但是这个规模就太大了（因为 N 越大，不重复的越多）  \n",
    "\n",
    "\n",
    "正是因为语言的创造性（任何特殊的内容都有可能从来没有出现过）以及长短语的不好评估性，我们可以用近似的方法求解，也就是说我们判断某句话出现的概率，在计算每个词的概率时不选择该词之前的所有词，而是选择最近的**几个**词。还是拿刚刚的例子说明，比如我们要计算 ”我喜欢张馨予“ 的概率（注意，我们这里用字模型，也就是每个字是一个 word，换成词也是一样的道理）。  \n",
    "注意，我们使用 MLE 的思想，从语料中统计出现频率，并将频率标准化为概率。\n",
    "\n",
    "完整的计算过程是： \n",
    "\n",
    "```\n",
    "P（我喜欢张馨予）  \n",
    "= P（第一个词是我）* P（第二个词是喜）*...* P（倒数第二个词是馨）* P（最后一个词是予）    \n",
    "= P（我|B）* P（喜|B我）*...* P（予|B我喜欢张馨）* P（E|B我喜欢张馨予）  \n",
    "= C（B我）/ΣC（BX）*  C（B我喜）/ΣC（B我X）* C（B我喜欢）/ΣC（B我喜X）*...* C（B我喜欢张馨予）/ΣC（B我喜欢张馨X）* C（B我喜欢张馨予E）/ ΣC（B我喜欢张馨予X）  \n",
    "= C（B我）/C（B）* C（B我喜）/C（B我）*...* C（我喜欢张馨予）/ΣC（B我喜欢张馨）* C（B我喜欢张馨予E）/ΣC（B我喜欢张馨予）  \n",
    "= C（B我喜欢张馨予E）/C（B），其中 X 是词表中的任意一个可能的字，B 是 Begining，E 是 End。  \n",
    "```\n",
    "\n",
    "你没看错，就是这样，都约掉了，乍一看有点怪，仔细想想的确如此：因为我们现在依赖的是前面的所有词，那这句话出现的概率其实就是所有句子中这句话的次数。Bingo！计算没问题，但是想想刚刚提到的 ”语言的创造性“，这样的 LanguageModel 其实并没有什么卵用。从机器学习的角度看，这模型 ”过拟合“ 了。  \n",
    "\n",
    "那我们自然而然想到的就是减少依赖的词数，那 N 选多少呢？不能太多，计算是个问题（其实存储也有问题）；不能太少，比如 Unigram，也就是每个单词相互独立，这种模型解释力不强，随便举个例子 ”的的的的的的“ 这句话的概率会非常高，但是……或者每个字都换成高频词，随便组合一下……实际中，我们一般取 Bigram 或 Trigram，我自己的经验是 Trigram 比 Bigram 更好一些。Trigram 只要不是**介词、助词、连词**这样的词开头或结尾，基本具备一定的独立性；Bigram 就不是了，大概比单个词好了一些。不过具体怎么选择还要看实际应用场景，我们信奉实用：）\n",
    "\n",
    "Trigram 的计算过程：  \n",
    "\n",
    "```\n",
    "P（我喜欢张馨予）  \n",
    "= P（第一个词是我）* P（第二个词是喜）*...* P（倒数第二个词是馨）* P（最后一个词是予）  \n",
    "= P（喜|B我）*...\\* P（予|张馨）* P（E|馨予）  \n",
    "= C（B我喜）/C（B我）*...*C（张馨予）/C（张馨）*C（馨予E）/C（馨予）\n",
    "```\n",
    "\n",
    "最后，补充一下如何统计 Ngram 的词频。  \n",
    "\n",
    "- 数据规模不大时：`collections.Counter()`\n",
    "- 数据规模太大时：先把语料全部处理成 Ngram，用空格或其他分隔符分开存储好；逐行读入，逐词存入字典，如果字典中已有则 +1，否则为 1。提示：所有读取操作用 generator，这种操作方式基本不耗内存，而且可以处理任意大的语料。"
   ]
  },
  {
   "cell_type": "markdown",
   "metadata": {},
   "source": [
    "## Smoothing\n",
    "\n",
    "- 处理 OOV（未登录词）\n",
    "  - 选择固定词表，没有在词表中的词为 UNK\n",
    "  - 选择固定数量的词或频次高于某个数的词，其余词为 UNK\n",
    "- Why Smoothing\n",
    "  - words that are in our vocabulary (they are not unknown words) but appear in a test set in an unseen **context** (for example they appear after a word they never appeared after in training). \n",
    "  - 即词在词表中，但测试/预测数据上部分词的组合训练数据中没出现过，这时候就需要 Smoothing。比如上面的例子，“张、馨、予” 三个字在词表中，如果训练数据上没有 “张馨予”，测试数据上出现了，我们不能说 “张馨予” 这个词出现的概率为 0。\n",
    "\n",
    "\n",
    "### Laplace Smoothing\n",
    "\n",
    "- Laplace smoothing merely adds one to each count (hence its alternate name addone smoothing). Since there are V words in the vocabulary and each one was incremented, we also need to adjust the denominator to take into account the extra V observations. \n",
    "- What happens to our P values if we don’t increase the denominator? The P value will bigger than 1\n",
    "- $$P_{Laplace} (w_i) = \\frac {c_i+1} {N+V}$$  \n",
    "- Instead of changing both the numerator and denominator, it is convenient to describe how a smoothing algorithm affects the numerator, by deﬁning an adjusted count c ∗ .  \n",
    "- $$c_i^* = (c_i+1) \\frac {N} {N+V}$$  \n",
    "- Bigram: \n",
    "  - $$P(w_n|w_{n-1}) = \\frac {C(w_{n-1}w_n)} {C(w_{n-1})}$$  \n",
    "  - $$P^*_{Laplace}(w_n|w_{n-1}) = \\frac {C(w_{n-1}w_n)+1} {C(w_{n-1})+V}$$\n",
    "  - $$C^*_{(w_{n-1}\\ w_n)} = \\frac {[C(w_{n-1}w_n)+1] C(w_{n-1})} {C(w_{n-1})+V}$$  \n",
    "  - 这个很简单，也很直观，如果你要给 $C(w_{n-1}w_n)$ 加 1，意味着 $C(w_{n-1})$ 要加 1，那所有词就是要加 V（词表大小）"
   ]
  },
  {
   "cell_type": "markdown",
   "metadata": {},
   "source": [
    "### Add-k Smoothing\n",
    "\n",
    "- $$P^*_{Add-k}(w_n|w_{n-1}) = \\frac {C(w_{n-1}w_n)+k} {C(w_{n-1})+kV}$$\n",
    "- Although add-k is useful for some tasks (including text classiﬁcation), it turns out that it still doesn’t work well for language modeling, generating counts with poor variances and often inappropriate discounts (Gale and Church, 1994)."
   ]
  },
  {
   "cell_type": "markdown",
   "metadata": {},
   "source": [
    "### Backoff and Interpolation\n",
    "\n",
    "- Backoff: we only “back off” to a lower-order N-gram if we have zero evidence for a higher-order N-gram.\n",
    "- Interpolation: we always mix the probability estimates from all the N-gram estimators, weighing and combining the trigram, bigram, and unigram counts.  \n",
    "- $$P(w_n|w_{n−2}w_{n−1}) = λ_1(w^{n−1}_{n−2})P(w_n|w_{n−2}w_{n−1}) + λ_2(w^{n−1}_{n−2})P(w_n|w_{n−1}) + λ_3(w_{n−2}^{n−1})P(w_n), \\sum_i {\\lambda_i} = 1$$\n",
    "- How are these λ values set?\n",
    "  - learned from a **held-out** corpus\n",
    "  - A held-out corpus is an additional training corpus that we use to set hyperparameters like these λ values, by choosing the λ values that maximize the likelihood of the held-out corpus.\n",
    "  - One way: EM\n",
    "- discount\n",
    "  - In order for a backoff model to give a correct probability distribution, we have to discount the higher-order N-grams to save some probability mass for the lower order N-grams.  \n",
    "  - 如果高阶的 Ngram 不存在，用低阶替换时需要 discount，否则会导致低阶的系数暴增。\n",
    "  - Just as with add-one smoothing, if the higher-order N-grams aren’t discounted and we just used the undiscounted MLE probability, then as soon as we replaced an N-gram which has zero probability with a lower-order N-gram, we would be adding probability mass, and the total probability assigned to all possible strings by the language model would be greater than 1! In addition to this explicit discount factor, we’ll need a function α to distribute this probability mass to the lower order N-grams.\n",
    "- Katz backoff\n",
    "  - ![](http://ohjwan9tm.bkt.clouddn.com/books-lm-smoothing-PAbsoluteDiscounting.jpeg)\n",
    "- Katz backoff is often combined with a smoothing method called **Good-Turing**."
   ]
  },
  {
   "cell_type": "markdown",
   "metadata": {},
   "source": [
    "## Kneser-Ney Smoothing\n",
    "\n",
    "- One of the most commonly used and best performing N-gram smoothing methods is the interpolated Kneser-Ney algorithm (Kneser and Ney 1995, Chen and Goodman 1998).  \n",
    "\n",
    "- Kneser-Ney has its roots in a method called **absolute discounting**. Discounting of the counts for frequent N-grams is necessary to save some probability mass for the smoothing algorithm to distribute to the unseen N-grams.\n",
    "\n",
    "- 大规模语料上的统计 Bigram 结果，训练数据出现的次数与同等规模的 held-out 语料出现次数比为 4:3  \n",
    "\n",
    "- Absolute discounting formalizes this intuition by subtracting a ﬁxed (absolute) discount **d(0.75)** from each count.  \n",
    "  - ![PAbsoluteDiscounting](http://qnimg.lovevivian.cn/books-Kneser-Ney-Smoothing.jpeg)\n",
    "  - the second term the unigram with an interpolation weight λ.\n",
    "\n",
    "- **Kneser-Ney discounting** (Kneser and Ney, 1995) augments absolute discounting with a more sophisticated way to handle the lower-order unigram distribution.  \n",
    "  - P_CONTINUATION: We hypothesize that words that have appeared in more contexts in the past are more likely to appear in some new context as well. 如果一个词以前更容易与别的词组成词组，那么在新的文本中也会更容易组成词组。比如：“蝶” 出现的次数远高于 “榨”（因为 “蝴蝶” 出现的次数高），但 “蝶” 组合成词的可能性（基本上只有 “蝴蝶”）低于 “榨”，所以在给定上文的情况下，下一个字更可能是 “榨” 而不是 “蝶”。注：[词频参考](http://lingua.mtsu.edu/chinese-computing/statistics/char/list.php?Which=TO)  \n",
    "  - The Kneser-Ney intuition is to base our estimate of P CONTINUATION on the number of different contexts word w has appeared in, that is, the number of bigram types it completes. The number of times a word w appears as a novel continuation can be expressed as:  \n",
    "     - ![](http://ohjwan9tm.bkt.clouddn.com/books-kneser-ney-smoothing-pcontinuation.jpeg)\n",
    "     - 其实就是给能组成更多 Bigram 的单个词更高的概率分布，A frequent word (“蝴”) occurring in only one context (“蝶”) will have a low continuation probability.\n",
    "\n",
    "- The ﬁnal equation for **Interpolated Kneser-Ney smoothing** is\n",
    "  - ![](http://qnimg.lovevivian.cn/books-interpolated-kneser-ney-smoothing.jpeg)\n",
    "  - The λ is a normalizing constant that is used to distribute the probability mass we’ve discounted:  ![](http://ohjwan9tm.bkt.clouddn.com/books-interpolated-lambda.jpeg)\n",
    "    - The ﬁrst term $\\frac {d} {C(w_{i-1\\ })}$ is the normalized discount.   \n",
    "    - The second term $\\lvert {w : C(w_{i−1}w) > 0} \\rvert$ is the number of word types that can follow $w_{i−1}$ or, equivalently, the number of word types that we discounted; in other words, the number of times we applied the normalized discount.\n",
    "\n",
    "\n",
    "- The **general recursive formulation** is as follows:  \n",
    "  - ![](http://qnimg.lovevivian.cn/books-general-recursive-formulation.jpeg)\n",
    "    - ![](http://qnimg.lovevivian.cn/books-ckn.jpeg)\n",
    "- ![](http://qnimg.lovevivian.cn/books-pkn-20180129.jpeg)\n"
   ]
  },
  {
   "cell_type": "markdown",
   "metadata": {},
   "source": [
    "The best-performing version of Kneser-Ney smoothing is called **modiﬁed KneserNey smoothing**, and is due to Chen and Goodman (1998). Rather than use a single ﬁxed discount d, modiﬁed Kneser-Ney uses three different discounts d1 , d2 , and d3+ for N-grams with counts of 1, 2 and three or more, respectively."
   ]
  },
  {
   "cell_type": "markdown",
   "metadata": {},
   "source": [
    "## The Web and Stupid Backoff\n",
    "\n",
    "![](http://ohjwan9tm.bkt.clouddn.com/books-spupid-backoff-180129.jpeg)\n",
    "\n",
    "S is score, not probability.  \n",
    "The backoff terminates in the unigram, which has probability S(w) = count(w)/N .   \n",
    "Brants et al. (2007) ﬁnd that a value of 0.4 worked well for λ.  \n",
    "\n",
    "举个例子：  \n",
    "k = 3，`S（予|张馨）= C（张馨予）/C（张馨）or 0.4 * C（馨予）/C（馨）`"
   ]
  },
  {
   "cell_type": "markdown",
   "metadata": {},
   "source": [
    "## Evaluating Language Models\n",
    "\n",
    "\n",
    "- The best way to evaluate the performance of a language model is to embed it in an application and measure how much the application improves. Such end-to-end evaluation is called **extrinsic evaluation**.  \n",
    "- An **intrinsic evaluation** metric is one that measures the quality of a model independent of any application. For an intrinsic evaluation of a language model we need a **test set**.  \n",
    "- Sometimes we use a particular test set so often that we implicitly tune to its characteristics. We call the initial test set the development test set or, **devset**.\n",
    "- what does it mean to “model the test set”? The answer is simple: whichever model assigns a **higher probability** to the test set—meaning it more accurately predicts the test set—is a better model.\n",
    "- In practice, we often just divide our data into 80% training, 10% development, and 10% test.\n",
    "\n",
    "\n",
    "### Perplexity\n",
    "\n",
    "- In practice we don’t use raw probability as our metric for evaluating language models, but a variant called perplexity.\n",
    "- For a test set W = w1, w2 ... wN:\n",
    "  - $$PP(W) = P(w_1w_2...w_N)^{-\\frac{1}{N}}$$  \n",
    "    $$=\\sqrt[N]{\\frac {1}{P(w_1w_2...w_N)}}$$  \n",
    "    $$=\\sqrt[N]{\\prod_{i=1}^N \\frac {1}{P(w_i|w_1w_2...w_{i-1})}}$$\n",
    "    $$\\approx \\sqrt[N]{\\prod_{i=1}^N \\frac {1}{P(w_i|w_{i-1})}} \\quad Bigram$$\n",
    "- The **higher the conditional probability** of the word sequence, the **lower the perplexity**.\n",
    "- What we generally use for word sequence in Eq above is the **entire sequence of words in some test set**. \n",
    "  - Since this sequence will cross many sentence boundaries, we need to include the begin- and end-sentence markers `<s>` and `</s>` in the probability computation. \n",
    "  - We also need to include the end-of-sentence marker `</s>` (**but not the beginning-of-sentence marker `<s>`**) in the total count of word tokens N.\n",
    "- Any kind of knowledge of the test set can cause the perplexity to be artiﬁcially low. The perplexity of two language models is only comparable if they use the **same vocabulary**.\n",
    "\n",
    "\n",
    "### Advanced: Perplexity’s Relation to Entropy\n",
    "\n",
    "- By making some incorrect but convenient simplifying assumptions, we can compute the entropy of some **stochastic process** by taking a very long sample of the output and computing its **average log probability**.  \n",
    "  $$H(W) \\approx − \\frac{1}{N} logP(w_1w_2...w_N)$$\n",
    "- $$Perplexity(W) = 2^{H(W)}$$\n",
    "- PPT 上的 A Refresher on Evaluation: \n",
    "  ![](http://qnimg.lovevivian.cn/course-cmu-nn4nlp-chap2-1.jpeg)"
   ]
  },
  {
   "cell_type": "markdown",
   "metadata": {},
   "source": [
    "## What Can we Do w/ LMs?\n",
    "\n",
    "- Score sentences\n",
    "- Generate sentences\n",
    "  - while didn’t choose end-of-sentence symbol\n",
    "  - calculate probability\n",
    "  - sample a new word from the probability distribution"
   ]
  },
  {
   "cell_type": "markdown",
   "metadata": {},
   "source": [
    "## Problems and Solutions?\n",
    "\n",
    "- Cannot share strength among **similar words**\n",
    "  - example: she _bought_ a _car_, she _purchased_ a _car_ || she _bought_ a _bicycle_, she _purchased_ a _bicycle_\n",
    "  - solution: class based language models\n",
    "- Cannot condition on context with **intervening words**\n",
    "  - example: _Dr._ Jane _Smith_ || _Dr._ Gertrude _Smith_\n",
    "  - solution: skip-gram language models\n",
    "- Cannot handle **long-distance dependencies**\n",
    "  - example: for _tennis_ class he wanted to buy his own _racquet_ || for _programming_ class he wanted to buy his own _computer_\n",
    "  - solution: cache, trigger, topic, syntactic models, etc."
   ]
  },
  {
   "cell_type": "markdown",
   "metadata": {},
   "source": [
    "# An Alternative Featurized Log-Linear Models"
   ]
  },
  {
   "cell_type": "code",
   "execution_count": null,
   "metadata": {},
   "outputs": [],
   "source": []
  }
 ],
 "metadata": {
  "kernelspec": {
   "display_name": "Python 3",
   "language": "python",
   "name": "python3"
  },
  "language_info": {
   "codemirror_mode": {
    "name": "ipython",
    "version": 3
   },
   "file_extension": ".py",
   "mimetype": "text/x-python",
   "name": "python",
   "nbconvert_exporter": "python",
   "pygments_lexer": "ipython3",
   "version": "3.6.5"
  },
  "latex_envs": {
   "LaTeX_envs_menu_present": true,
   "autoclose": false,
   "autocomplete": true,
   "bibliofile": "biblio.bib",
   "cite_by": "apalike",
   "current_citInitial": 1,
   "eqLabelWithNumbers": true,
   "eqNumInitial": 1,
   "hotkeys": {
    "equation": "Ctrl-E",
    "itemize": "Ctrl-I"
   },
   "labels_anchors": false,
   "latex_user_defs": false,
   "report_style_numbering": false,
   "user_envs_cfg": false
  },
  "toc": {
   "base_numbering": 1,
   "nav_menu": {
    "height": "30px",
    "width": "252px"
   },
   "number_sections": true,
   "sideBar": true,
   "skip_h1_title": false,
   "title_cell": "Table of Contents",
   "title_sidebar": "Contents",
   "toc_cell": true,
   "toc_position": {
    "height": "calc(100% - 180px)",
    "left": "10px",
    "top": "150px",
    "width": "384px"
   },
   "toc_section_display": "block",
   "toc_window_display": true
  }
 },
 "nbformat": 4,
 "nbformat_minor": 2
}
