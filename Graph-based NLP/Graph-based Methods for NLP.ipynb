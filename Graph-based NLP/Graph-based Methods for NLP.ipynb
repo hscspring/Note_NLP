{
 "cells": [
  {
   "cell_type": "markdown",
   "metadata": {},
   "source": [
    "[Graph-based methods for NLP: UKP](https://www.ukp.tu-darmstadt.de/teaching/courses/previous-terms/ss-2012/graph-based-methods-for-nlp)  "
   ]
  },
  {
   "cell_type": "markdown",
   "metadata": {},
   "source": [
    "# Introduction\n",
    "\n",
    "[A_Intro.pptx](https://www.ukp.tu-darmstadt.de/fileadmin/user_upload/Group_UKP/teaching/ega2011/A_Intro.pdf)\n",
    "\n",
    "![](http://ohjwan9tm.bkt.clouddn.com/graph/graph-based-nlp.png)"
   ]
  },
  {
   "cell_type": "markdown",
   "metadata": {},
   "source": [
    "# Natrural language graphs\n",
    "\n",
    "[B_NaturalLanguageGraphs.pptx](https://www.ukp.tu-darmstadt.de/fileadmin/user_upload/Group_UKP/teaching/ega2011/B_NaturalLanguageGraphs.pdf)"
   ]
  },
  {
   "cell_type": "markdown",
   "metadata": {},
   "source": [
    "## Graphs in NLP\n",
    "\n",
    "![](http://ohjwan9tm.bkt.clouddn.com/graph/Graphs-in-NLP.png)"
   ]
  },
  {
   "cell_type": "markdown",
   "metadata": {},
   "source": [
    "## Mitivation for graph representation\n",
    "\n",
    "- intuitive and natural way\n",
    "- exist methods directly operate on graphs"
   ]
  },
  {
   "cell_type": "markdown",
   "metadata": {},
   "source": [
    "## Statistics over Language Data"
   ]
  },
  {
   "cell_type": "markdown",
   "metadata": {},
   "source": [
    "## Co-occurrence Graphs\n",
    "\n",
    "- If two words X and Y occur together in some contextual unit of\n",
    "information (as neighbors, in a word window of 5, in a clause, in a\n",
    "sentence, in a paragraph), they are said to co-occur. "
   ]
  },
  {
   "cell_type": "markdown",
   "metadata": {},
   "source": [
    "## Significance Measures\n",
    "\n",
    "![](http://ohjwan9tm.bkt.clouddn.com/graph/significance-measure)"
   ]
  },
  {
   "cell_type": "markdown",
   "metadata": {},
   "source": [
    "![](http://ohjwan9tm.bkt.clouddn.com/graph/co-occurrence-large-corpus.jpg)"
   ]
  },
  {
   "cell_type": "markdown",
   "metadata": {},
   "source": [
    "## Scale-free distributions\n",
    "\n",
    "![](http://ohjwan9tm.bkt.clouddn.com/graph/scale-free-distribution.jpg)"
   ]
  },
  {
   "cell_type": "markdown",
   "metadata": {},
   "source": [
    "## Small world property\n",
    "\n",
    "![](http://ohjwan9tm.bkt.clouddn.com/graph/small-world-property.jpg)"
   ]
  },
  {
   "cell_type": "markdown",
   "metadata": {},
   "source": [
    "## Positional Co-occurrences \n",
    "\n",
    "![](http://ohjwan9tm.bkt.clouddn.com/graph/positional-cooccurrences.jpg)\n",
    "\n",
    "\n",
    "Similar terms have similar contexts"
   ]
  },
  {
   "cell_type": "markdown",
   "metadata": {},
   "source": [
    "## Dependency Parse Trees: Grammar Structure\n",
    "\n",
    "![](http://ohjwan9tm.bkt.clouddn.com/graph/dpt-grammar-structure.jpg)\n"
   ]
  },
  {
   "cell_type": "markdown",
   "metadata": {},
   "source": [
    "## Distributional Thesaurus (DT) \n",
    "\n",
    "![](http://ohjwan9tm.bkt.clouddn.com/graph/distributional-thesaurus.jpg)"
   ]
  },
  {
   "cell_type": "markdown",
   "metadata": {},
   "source": [
    "## The G(V,E) View \n",
    "\n",
    "![](http://ohjwan9tm.bkt.clouddn.com/graph/ge-view.jpg)\n"
   ]
  },
  {
   "cell_type": "markdown",
   "metadata": {},
   "source": [
    "### Similarity\n",
    "\n",
    "![](http://ohjwan9tm.bkt.clouddn.com/graph/similarity.jpg)\n"
   ]
  },
  {
   "cell_type": "markdown",
   "metadata": {},
   "source": [
    "### Ambiguity\n",
    "\n",
    "![](http://ohjwan9tm.bkt.clouddn.com/graph/ambiguity.jpg)\n"
   ]
  },
  {
   "cell_type": "markdown",
   "metadata": {},
   "source": [
    "## Graph Clustering \n",
    "\n",
    "![](http://ohjwan9tm.bkt.clouddn.com/graph/graph-clustering.jpg)\n"
   ]
  },
  {
   "cell_type": "markdown",
   "metadata": {},
   "source": [
    "### Chinese Whispers Graph Clustering \n",
    "\n",
    "![](http://ohjwan9tm.bkt.clouddn.com/graph/chinese-whispers-graph-clustering.jpg)\n"
   ]
  },
  {
   "cell_type": "markdown",
   "metadata": {},
   "source": [
    "### Properties of Chinese Whispers \n",
    "\n",
    "![](http://ohjwan9tm.bkt.clouddn.com/graph/properties-chinese-whispers.jpg)\n"
   ]
  },
  {
   "cell_type": "markdown",
   "metadata": {},
   "source": [
    "### Application: Language Separation \n",
    "\n",
    "- When downloading the internet, we don’t know what languages are there.   \n",
    "  It would be useful to sort the pages by language\n",
    "- Idea: Train a language classifier on text of known language\n",
    "- Material for supervised training:\n",
    "    - German: Als ich in der Schule war, gab es noch keine Handys. Es war noch nicht möglich, in der Pause zu telefonieren.\n",
    "    - English: It does not rain a lot in the Sahara desert. In a way, it is one of\n",
    "    the driest regions of the world.\n",
    "- Model: most frequent words:\n",
    "    - German: ich, war, es, noch, in\n",
    "    - Englisch: it, the, of, in, a\n",
    "- Classification:\n",
    "    - This is a test. It tests a language identification system.\n",
    "    - Es ist noch kein Meister in den Brunnen gefallen.\n",
    "    - Soldiers die in the war.\n",
    "    - Mi aerodeslizador está lleno de anguilas"
   ]
  },
  {
   "cell_type": "markdown",
   "metadata": {},
   "source": [
    "### Unsupervised Language Separation \n",
    "\n",
    "- Multilingual word co-occurrence\n",
    "graph is connected: some words\n",
    "are used in several languages, the\n",
    "same names are also used\n",
    "throughout.\n",
    "- Cluster the multilingual word cooccurrence\n",
    "graph and use cluster\n",
    "members to identify sentences/\n",
    "documents belonging to that\n",
    "cluster "
   ]
  },
  {
   "cell_type": "markdown",
   "metadata": {},
   "source": [
    "### Clustering with Chinese Whispers \n",
    "\n"
   ]
  },
  {
   "cell_type": "markdown",
   "metadata": {},
   "source": [
    "### Unsupervised POS tagging \n",
    "\n",
    "![](http://ohjwan9tm.bkt.clouddn.com/graph/unsupervised-pos-tagging.jpg)\n"
   ]
  },
  {
   "cell_type": "markdown",
   "metadata": {},
   "source": [
    "### Partitioning  Example\n",
    "\n",
    "![](http://ohjwan9tm.bkt.clouddn.com/graph/pos-tagging-1.jpg)\n",
    "![](http://ohjwan9tm.bkt.clouddn.com/graph/pos-tagging-2.jpg)\n"
   ]
  },
  {
   "cell_type": "markdown",
   "metadata": {},
   "source": [
    "### Application of Graph Clustering\n",
    "\n",
    "![](http://ohjwan9tm.bkt.clouddn.com/graph/application1.jpg)\n"
   ]
  },
  {
   "cell_type": "markdown",
   "metadata": {},
   "source": [
    "### Ambiguity detection example\n",
    "\n",
    "![](http://ohjwan9tm.bkt.clouddn.com/graph/ambiguity-detection.jpg)\n"
   ]
  },
  {
   "cell_type": "markdown",
   "metadata": {},
   "source": [
    "**Sample clustering \"arm#n\" DT entry top 100**\n",
    "\n",
    "- arm@0: thigh, spear, crest, stick, wrist, rack, throat, tip, beak, eye, mouth,\n",
    "mount, trunk, leg, edge, piece, fin, shoulder, back, motor, jaw, abdomen, paw,\n",
    "pair, face, belly, chair, claw, shaft, elbow, rib, vertebra, collar, skull, hand, blade,\n",
    "wing, stem, hammer, end, handle, roof, forehead, pole, neck, ankle, ton, axle,\n",
    "frame, cord, foot, shield, needle, fracture, knee, nose, penis, bottom, turret, slide,\n",
    "hook, limb, lever, chest, ear, bay, sword, head, flag, tail, half, banner, hip, joint,\n",
    "beam, breast, bone, backward, horn, spine, forearm, bow, badge, finger, toe,\n",
    "thumb, mirror (87)\n",
    "- arm@1: pistol, saber, grenade, firearm, launcher, weapon, rifle, ammunition,\n",
    "shotgun, mortar (10)\n",
    "- arm@2: venture, fund, boom (3)"
   ]
  },
  {
   "attachments": {},
   "cell_type": "markdown",
   "metadata": {},
   "source": [
    "![](http://ohjwan9tm.bkt.clouddn.com/graph/cluster-features-illustration.jpg)\n"
   ]
  },
  {
   "cell_type": "markdown",
   "metadata": {},
   "source": [
    "### WSI + WSD Evaluation\n",
    "\n",
    "![](http://ohjwan9tm.bkt.clouddn.com/graph/wsi-wsd-evaluation.jpg)\n"
   ]
  },
  {
   "attachments": {},
   "cell_type": "markdown",
   "metadata": {},
   "source": [
    "![](http://ohjwan9tm.bkt.clouddn.com/graph/hip-1.jpg)\n"
   ]
  },
  {
   "cell_type": "markdown",
   "metadata": {},
   "source": [
    "![](http://ohjwan9tm.bkt.clouddn.com/graph/hip-2.jpg)\n"
   ]
  },
  {
   "cell_type": "markdown",
   "metadata": {},
   "source": [
    "## Conclusion\n",
    "\n",
    "- Natural Language can be represented with graphs:\n",
    "    - nodes = words, edges encode relations between words\n",
    "    - nodes = sentences, edges encode their similarity\n",
    "    - nodes = documents, edges encode their links\n",
    "    - ….\n",
    "- Graphs representing language mostly have these properties:\n",
    "    - scale-free-ness: distribution of frequency/degree/etc follows a power-law\n",
    "    - small world property: high clustering coefficcient\n",
    "- Once we represent our problem in a graph, we can use the whole arsenal of graph algorithms\n",
    "- We demonstrated three applications using graph clustering:\n",
    "    - Language separation\n",
    "    - Part-of-Speech induction\n",
    "    - Word Sense Induction "
   ]
  },
  {
   "cell_type": "markdown",
   "metadata": {},
   "source": [
    "# Graph algorithms in NLP"
   ]
  },
  {
   "cell_type": "code",
   "execution_count": null,
   "metadata": {},
   "outputs": [],
   "source": []
  },
  {
   "cell_type": "code",
   "execution_count": null,
   "metadata": {},
   "outputs": [],
   "source": []
  },
  {
   "cell_type": "code",
   "execution_count": null,
   "metadata": {},
   "outputs": [],
   "source": []
  }
 ],
 "metadata": {
  "kernelspec": {
   "display_name": "Python 3",
   "language": "python",
   "name": "python3"
  },
  "language_info": {
   "codemirror_mode": {
    "name": "ipython",
    "version": 3
   },
   "file_extension": ".py",
   "mimetype": "text/x-python",
   "name": "python",
   "nbconvert_exporter": "python",
   "pygments_lexer": "ipython3",
   "version": "3.6.2"
  },
  "toc": {
   "colors": {
    "hover_highlight": "#DAA520",
    "running_highlight": "#FF0000",
    "selected_highlight": "#FFD700"
   },
   "moveMenuLeft": true,
   "nav_menu": {
    "height": "444px",
    "width": "252px"
   },
   "navigate_menu": true,
   "number_sections": true,
   "sideBar": true,
   "threshold": 4,
   "toc_cell": false,
   "toc_section_display": "block",
   "toc_window_display": true
  }
 },
 "nbformat": 4,
 "nbformat_minor": 2
}
