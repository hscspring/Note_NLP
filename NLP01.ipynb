{
 "cells": [
  {
   "cell_type": "markdown",
   "metadata": {},
   "source": [
    "## NLP 基础与语言模型\n",
    "\n",
    "\n",
    "### 什么是语言\n",
    "\n",
    "人与人或人与物沟通的媒介。\n",
    "\n",
    "### 自然语言构成\n",
    "\n",
    "- 文本\n",
    "- 语音\n",
    "\n",
    "### 自然语言处理任务\n",
    "\n",
    "- 词法分析\n",
    "- 句法分析\n",
    "- 语义分析\n",
    "- 篇章分析\n",
    "- ……\n",
    "\n",
    "定位：中文 统计 自然语言处理\n",
    "\n",
    "\n",
    "### 统计语言模型\n",
    "\n",
    "- 关于语言生成方式的假设\n",
    "  - All models are wrong but some are useful.\n",
    "- 为什么学语言模型\n",
    "  - 对所研究语言的基本假设\n",
    "  - 支持句法分析、机器翻译、语言生成等任务\n",
    "\n",
    "\n",
    "### N-gram 语言模型\n",
    "\n",
    "- 纠错\n",
    "  - 13:15 那个应该统计词的个数，否则整体概率不等于 1\n",
    "\n",
    "\n",
    "### 语言模型计算的问题与平滑\n",
    "\n",
    "- 加法平滑\n",
    "\n",
    "- 建议\n",
    "  - 加法平滑那里可以稍微解释一下为什么 $\\delta$ 取 0-1"
   ]
  },
  {
   "cell_type": "code",
   "execution_count": null,
   "metadata": {
    "collapsed": true
   },
   "outputs": [],
   "source": []
  }
 ],
 "metadata": {
  "kernelspec": {
   "display_name": "Python 3",
   "language": "python",
   "name": "python3"
  },
  "language_info": {
   "codemirror_mode": {
    "name": "ipython",
    "version": 3
   },
   "file_extension": ".py",
   "mimetype": "text/x-python",
   "name": "python",
   "nbconvert_exporter": "python",
   "pygments_lexer": "ipython3",
   "version": "3.3.5"
  },
  "latex_envs": {
   "LaTeX_envs_menu_present": true,
   "bibliofile": "biblio.bib",
   "cite_by": "apalike",
   "current_citInitial": 1,
   "eqLabelWithNumbers": true,
   "eqNumInitial": 1,
   "hotkeys": {
    "equation": "Ctrl-E",
    "itemize": "Ctrl-I"
   },
   "labels_anchors": false,
   "latex_user_defs": false,
   "report_style_numbering": false,
   "user_envs_cfg": false
  },
  "toc": {
   "colors": {
    "hover_highlight": "#DAA520",
    "running_highlight": "#FF0000",
    "selected_highlight": "#FFD700"
   },
   "moveMenuLeft": true,
   "nav_menu": {
    "height": "138px",
    "width": "252px"
   },
   "navigate_menu": true,
   "number_sections": true,
   "sideBar": true,
   "threshold": 4,
   "toc_cell": false,
   "toc_section_display": "block",
   "toc_window_display": false
  }
 },
 "nbformat": 4,
 "nbformat_minor": 0
}
